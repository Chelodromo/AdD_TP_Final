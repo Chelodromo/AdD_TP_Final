{
 "cells": [
  {
   "cell_type": "code",
   "execution_count": 1,
   "id": "9d35e477-9249-4573-9fca-c490dae38b49",
   "metadata": {},
   "outputs": [],
   "source": [
    "import pandas as pd\n",
    "df = pd.read_csv(\"dataset/data_playlist.csv\")"
   ]
  },
  {
   "cell_type": "code",
   "execution_count": 3,
   "id": "a44b1f4d-1bde-44e1-80b6-1060d933d8e2",
   "metadata": {},
   "outputs": [
    {
     "name": "stdout",
     "output_type": "stream",
     "text": [
      "<class 'pandas.core.frame.DataFrame'>\n",
      "RangeIndex: 750 entries, 0 to 749\n",
      "Data columns (total 14 columns):\n",
      " #   Column            Non-Null Count  Dtype  \n",
      "---  ------            --------------  -----  \n",
      " 0   acousticness      750 non-null    float64\n",
      " 1   danceability      750 non-null    float64\n",
      " 2   duration          750 non-null    int64  \n",
      " 3   energy            750 non-null    float64\n",
      " 4   instrumentalness  750 non-null    float64\n",
      " 5   key               750 non-null    int64  \n",
      " 6   liveness          750 non-null    float64\n",
      " 7   loudness          750 non-null    float64\n",
      " 8   mode              750 non-null    int64  \n",
      " 9   speechiness       750 non-null    float64\n",
      " 10  tempo             750 non-null    float64\n",
      " 11  time_signature    750 non-null    int64  \n",
      " 12  valence           750 non-null    float64\n",
      " 13  label             750 non-null    int64  \n",
      "dtypes: float64(9), int64(5)\n",
      "memory usage: 82.2 KB\n"
     ]
    }
   ],
   "source": [
    "# descripción de cada columna e información general del dataframe\n",
    "df.info()"
   ]
  },
  {
   "cell_type": "code",
   "execution_count": 7,
   "id": "3c312b22-83f4-42a3-91a3-ba7ec57ca163",
   "metadata": {},
   "outputs": [
    {
     "data": {
      "text/plain": [
       "(750, 14)"
      ]
     },
     "execution_count": 7,
     "metadata": {},
     "output_type": "execute_result"
    }
   ],
   "source": [
    "df.shape"
   ]
  },
  {
   "cell_type": "code",
   "execution_count": null,
   "id": "e24e5541-6fa0-4412-b1aa-050b35801292",
   "metadata": {},
   "outputs": [],
   "source": []
  }
 ],
 "metadata": {
  "kernelspec": {
   "display_name": "Python 3 (ipykernel)",
   "language": "python",
   "name": "python3"
  },
  "language_info": {
   "codemirror_mode": {
    "name": "ipython",
    "version": 3
   },
   "file_extension": ".py",
   "mimetype": "text/x-python",
   "name": "python",
   "nbconvert_exporter": "python",
   "pygments_lexer": "ipython3",
   "version": "3.12.4"
  }
 },
 "nbformat": 4,
 "nbformat_minor": 5
}
